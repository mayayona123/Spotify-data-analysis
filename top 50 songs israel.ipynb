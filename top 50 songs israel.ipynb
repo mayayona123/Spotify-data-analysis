{
 "cells": [
  {
   "cell_type": "code",
   "execution_count": null,
   "id": "24011c7b",
   "metadata": {},
   "outputs": [],
   "source": [
    "import spotipy\n",
    "from spotipy.oauth2 import SpotifyClientCredentials\n",
    "import pandas as pd\n",
    "\n",
    "\n",
    "def update_google_sheet():\n",
    "    # Convert the DataFrame to a list of lists\n",
    "    data = get_track_data_new_11('Top 50 - Israel')\n",
    "    data = pd.DataFrame([data.columns.tolist()] + data.values.tolist())\n",
    "\n",
    "    data2 = get_popular_artists()\n",
    "    data2 = pd.DataFrame([data2.columns.tolist()] + data2.values.tolist())\n",
    "\n",
    "    # Write the data to the worksheet\n",
    "    demo_sheet.update('A1', data.values.tolist())\n",
    "    artists_sheet.update('A1', data2.values.tolist())\n",
    "\n",
    "update_google_sheet()\n",
    "\n",
    "# # Schedule the function to run once a day at 2 AM\n",
    "# schedule.every().day.at(\"02:00:00\").do(update_google_sheet)\n",
    "\n",
    "# while True:\n",
    "#     # Run the scheduled task\n",
    "#     schedule.run_pending()\n",
    "#     time.sleep(1)"
   ]
  },
  {
   "cell_type": "code",
   "execution_count": null,
   "id": "8ee8e956",
   "metadata": {},
   "outputs": [],
   "source": [
    "!pip install gspread\n",
    "!pip install oauth2client\n",
    "import gspread\n",
    "from oauth2client.service_account import ServiceAccountCredentials\n",
    "from google.oauth2.service_account import Credentials\n",
    "import gspread\n",
    "# Specify the scope with the additional spreadsheets scope\n",
    "scope = ['https://www.googleapis.com/auth/drive', 'https://www.googleapis.com/auth/spreadsheets']\n",
    "# Load the credentials from the service account JSON file\n",
    "creds = Credentials.from_service_account_file('/Users/mayayona/Downloads/spotify-api-384509-302c8e2146ce.json', scopes=scope)\n",
    "client = gspread.authorize(creds)\n",
    "demo_sheet = client.open('spotify_api_maya').sheet1 # Replace 'your-sheet-name' with the name of your Google Sheet\n",
    "artists_sheet= client.open('spotify_api_artists').sheet1\n",
    "!pip install requests \n",
    "!pip3 install python-dotenv\n",
    "!pip3 install spotipy\n",
    "!pip3 install requests\n",
    "!pip install spotipy\n"
   ]
  },
  {
   "cell_type": "code",
   "execution_count": null,
   "id": "2e2a1717",
   "metadata": {},
   "outputs": [],
   "source": [
    "ems'][0]\n",
    "        playlist_tracks = sp.playlist_tracks(playlist_id=playlist['id'], limit=50)\n",
    "        for j, track in enumerate(playlist_tracks['items']):\n",
    "            if track['track']['id'] not in track_id:  # check if track is already in set\n",
    "                artist_name.append(track['track']['artists'][0]['name'])\n",
    "                artist_id.append(track['track']['artists'][0]['id'])\n",
    "                track_name.append(track['track']['name'])\n",
    "                track_id.append(track['track']['id'])\n",
    "\n",
    "                # set default value of 0 for track popularity, danceability, loudness and energy\n",
    "                track_popularity.append(0)\n",
    "                track_danceability.append(0)\n",
    "                track_loudness.append(0)\n",
    "                track_energy.append(0)\n",
    "\n",
    "                # get track features\n",
    "                track_features = sp.audio_features(track_id[-1])[0]\n",
    "                if track_features:\n",
    "                    track_danceability[-1] = track_features['danceability']\n",
    "                    track_loudness[-1] = track_features['loudness']\n",
    "                    track_energy[-1] = track_features['energy']\n",
    "\n",
    "        track_df_mine_any = pd.DataFrame({'artist_name': artist_name, 'track_name': track_name, 'track_danceability' : track_danceability, 'track_loudness': track_loudness, 'track_energy': track_energy, 'track_id': track_id, 'artist_id': artist_id})\n",
    "        #track_df_mine_any = track_df_mine_any.sort_values(by=['track_popularity'], ascending=False)  # sort by danceability\n",
    "        print (type(track_df_mine_any))\n",
    "        return track_df_mine_any\n",
    "\n",
    "    else:\n",
    "        print(\"No playlist found with name \" + playlist_name)"
   ]
  },
  {
   "cell_type": "code",
   "execution_count": null,
   "id": "64b55fc5",
   "metadata": {},
   "outputs": [],
   "source": [
    "get_track_data_new_11('Top 50 - Israel')\n"
   ]
  }
 ],
 "metadata": {
  "kernelspec": {
   "display_name": "Python 3 (ipykernel)",
   "language": "python",
   "name": "python3"
  },
  "language_info": {
   "codemirror_mode": {
    "name": "ipython",
    "version": 3
   },
   "file_extension": ".py",
   "mimetype": "text/x-python",
   "name": "python",
   "nbconvert_exporter": "python",
   "pygments_lexer": "ipython3",
   "version": "3.10.9"
  }
 },
 "nbformat": 4,
 "nbformat_minor": 5
}
